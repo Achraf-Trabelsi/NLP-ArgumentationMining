{
  "cells": [
    {
      "cell_type": "markdown",
      "metadata": {
        "id": "view-in-github",
        "colab_type": "text"
      },
      "source": [
        "<a href=\"https://colab.research.google.com/github/Achraf-Trabelsi/PFA-NLP/blob/main/BiLSTM_embed_pos.ipynb\" target=\"_parent\"><img src=\"https://colab.research.google.com/assets/colab-badge.svg\" alt=\"Open In Colab\"/></a>"
      ]
    },
    {
      "cell_type": "code",
      "execution_count": null,
      "metadata": {
        "colab": {
          "base_uri": "https://localhost:8080/"
        },
        "id": "f_OE99nJ6GJM",
        "outputId": "c12660b5-6548-42ab-fce9-1d8d781b47b4"
      },
      "outputs": [
        {
          "output_type": "stream",
          "name": "stdout",
          "text": [
            "Mounted at /content/drive\n"
          ]
        }
      ],
      "source": [
        "# Mount the drive\n",
        "from google.colab import drive\n",
        "drive.mount('/content/drive',force_remount=True)"
      ]
    },
    {
      "cell_type": "code",
      "execution_count": null,
      "metadata": {
        "id": "FRcPyDBs6Mpp"
      },
      "outputs": [],
      "source": [
        "import pandas as pd\n",
        "import numpy as np\n",
        "import os \n",
        "import tensorflow as tf\n",
        "from tensorflow import keras\n",
        "from keras import layers\n",
        "path='/content/drive/MyDrive/PFA/'\n",
        "data=pd.read_csv(f'{path}dataset.csv')"
      ]
    },
    {
      "cell_type": "code",
      "execution_count": null,
      "metadata": {
        "colab": {
          "base_uri": "https://localhost:8080/"
        },
        "id": "54ZAyhJ26jZe",
        "outputId": "b41e9db4-9e35-426f-9e7a-46e7f9e9506b"
      },
      "outputs": [
        {
          "output_type": "stream",
          "name": "stdout",
          "text": [
            "<class 'pandas.core.frame.DataFrame'>\n",
            "RangeIndex: 15594 entries, 0 to 15593\n",
            "Data columns (total 4 columns):\n",
            " #   Column  Non-Null Count  Dtype \n",
            "---  ------  --------------  ----- \n",
            " 0   id      15594 non-null  object\n",
            " 1   text    15594 non-null  object\n",
            " 2   pos     15594 non-null  object\n",
            " 3   arg     15594 non-null  object\n",
            "dtypes: object(4)\n",
            "memory usage: 487.4+ KB\n"
          ]
        }
      ],
      "source": [
        "data.info()"
      ]
    },
    {
      "cell_type": "code",
      "execution_count": null,
      "metadata": {
        "id": "r8TkYvom83Hs"
      },
      "outputs": [],
      "source": [
        "from keras.preprocessing.text import Tokenizer\n",
        "\n",
        "t = Tokenizer()\n",
        "t.fit_on_texts([text for text in data['text'].values])\n",
        "vocab_size = len(t.word_index)+1"
      ]
    },
    {
      "cell_type": "code",
      "execution_count": null,
      "metadata": {
        "id": "kc8nMiP_9Stv"
      },
      "outputs": [],
      "source": [
        "max_seq_length=600"
      ]
    },
    {
      "cell_type": "code",
      "execution_count": null,
      "metadata": {
        "id": "cotZMxz69PYQ"
      },
      "outputs": [],
      "source": [
        "from keras.preprocessing.sequence import pad_sequences\n",
        "from keras.utils import np_utils\n",
        "\n",
        "X = data[['text','pos']].values\n",
        "y = data['arg'].values\n",
        "pos = X[:,1]\n",
        "\n",
        "X_encode = t.texts_to_sequences(X[:,0])\n",
        "y=[np.array([float(x1) for x1 in x.split()]) for x in y]\n",
        "pos=[np.array([float(x1) for x1 in x.split()]) for x in pos]\n",
        "\n",
        "X_padded = pad_sequences(X_encode, maxlen=max_seq_length,padding='post')\n",
        "pos_padded = pad_sequences(pos, maxlen=max_seq_length,padding='post',value=8)\n",
        "y_padded = pad_sequences(y, maxlen=max_seq_length,padding='post',value=8)\n",
        "\n",
        "pos_cat = np_utils.to_categorical(pos_padded)\n",
        "y_cat = np_utils.to_categorical(y_padded)"
      ]
    },
    {
      "cell_type": "code",
      "execution_count": null,
      "metadata": {
        "colab": {
          "base_uri": "https://localhost:8080/"
        },
        "id": "MWA8ffzFSUK7",
        "outputId": "3594be81-48d8-4448-ac59-83f77bf942a7"
      },
      "outputs": [
        {
          "output_type": "execute_result",
          "data": {
            "text/plain": [
              "(15594, 2)"
            ]
          },
          "metadata": {},
          "execution_count": 7
        }
      ],
      "source": [
        "X.shape"
      ]
    },
    {
      "cell_type": "code",
      "execution_count": null,
      "metadata": {
        "colab": {
          "base_uri": "https://localhost:8080/"
        },
        "id": "rvVX_sTrSJ4l",
        "outputId": "9f1dbe15-d722-486a-f588-e08e9aac8fdf"
      },
      "outputs": [
        {
          "output_type": "execute_result",
          "data": {
            "text/plain": [
              "(15594, 600)"
            ]
          },
          "metadata": {},
          "execution_count": 8
        }
      ],
      "source": [
        "np.array(X_padded).shape"
      ]
    },
    {
      "cell_type": "code",
      "execution_count": null,
      "metadata": {
        "colab": {
          "base_uri": "https://localhost:8080/"
        },
        "id": "P1uFLwS5SPOq",
        "outputId": "38673aa4-14ae-4be2-b5cb-954f7b37f6e9"
      },
      "outputs": [
        {
          "output_type": "execute_result",
          "data": {
            "text/plain": [
              "(15594, 600)"
            ]
          },
          "metadata": {},
          "execution_count": 9
        }
      ],
      "source": [
        "np.array(pos_padded).shape"
      ]
    },
    {
      "cell_type": "code",
      "execution_count": null,
      "metadata": {
        "id": "xYmenAc69cR0"
      },
      "outputs": [],
      "source": [
        "from sklearn.model_selection import train_test_split\n",
        "\n",
        "X_train, X_test, y_train, y_test = train_test_split(X_padded,y_cat, test_size=0.2, random_state=42)\n",
        "X1_train, X1_test, y1_train, y1_test = train_test_split(pos_cat,y_cat, test_size=0.2, random_state=42)"
      ]
    },
    {
      "cell_type": "code",
      "execution_count": null,
      "metadata": {
        "colab": {
          "base_uri": "https://localhost:8080/"
        },
        "id": "NlO6RgVL9jOQ",
        "outputId": "3dfc8e91-c14b-4445-87c1-fdfbb65a508a"
      },
      "outputs": [
        {
          "output_type": "stream",
          "name": "stdout",
          "text": [
            "--2022-06-02 22:01:39--  http://nlp.stanford.edu/data/glove.6B.zip\n",
            "Resolving nlp.stanford.edu (nlp.stanford.edu)... 171.64.67.140\n",
            "Connecting to nlp.stanford.edu (nlp.stanford.edu)|171.64.67.140|:80... connected.\n",
            "HTTP request sent, awaiting response... 302 Found\n",
            "Location: https://nlp.stanford.edu/data/glove.6B.zip [following]\n",
            "--2022-06-02 22:01:39--  https://nlp.stanford.edu/data/glove.6B.zip\n",
            "Connecting to nlp.stanford.edu (nlp.stanford.edu)|171.64.67.140|:443... connected.\n",
            "HTTP request sent, awaiting response... 301 Moved Permanently\n",
            "Location: http://downloads.cs.stanford.edu/nlp/data/glove.6B.zip [following]\n",
            "--2022-06-02 22:01:39--  http://downloads.cs.stanford.edu/nlp/data/glove.6B.zip\n",
            "Resolving downloads.cs.stanford.edu (downloads.cs.stanford.edu)... 171.64.64.22\n",
            "Connecting to downloads.cs.stanford.edu (downloads.cs.stanford.edu)|171.64.64.22|:80... connected.\n",
            "HTTP request sent, awaiting response... 200 OK\n",
            "Length: 862182613 (822M) [application/zip]\n",
            "Saving to: ‘glove.6B.zip’\n",
            "\n",
            "glove.6B.zip        100%[===================>] 822.24M  5.06MB/s    in 2m 40s  \n",
            "\n",
            "2022-06-02 22:04:20 (5.12 MB/s) - ‘glove.6B.zip’ saved [862182613/862182613]\n",
            "\n"
          ]
        }
      ],
      "source": [
        "import urllib.request\n",
        "!wget http://nlp.stanford.edu/data/glove.6B.zip"
      ]
    },
    {
      "cell_type": "code",
      "execution_count": null,
      "metadata": {
        "id": "vOC03Wbr5RGX"
      },
      "outputs": [],
      "source": [
        "!unzip -q -n \"/content/glove.6B.zip\" -d \"/content/\"\n",
        "emmbed_dict = {}\n",
        "with open('/content/glove.6B.50d.txt','r') as f:\n",
        "  for line in f:\n",
        "    values = line.split()\n",
        "    word = values[0]\n",
        "    vector = np.asarray(values[1:],dtype='float32')\n",
        "    emmbed_dict[word]=vector"
      ]
    },
    {
      "cell_type": "code",
      "execution_count": null,
      "metadata": {
        "id": "hPa9D98D9iui"
      },
      "outputs": [],
      "source": [
        "embeddings_index = dict()\n",
        "f = open('/content/glove.6B.50d.txt')\n",
        "for line in f:\n",
        "\tvalues = line.split()\n",
        "\tword = values[0]\n",
        "\tcoefs = np.asarray(values[1:], dtype='float32')\n",
        "\tembeddings_index[word] = coefs\n",
        "f.close()"
      ]
    },
    {
      "cell_type": "code",
      "execution_count": null,
      "metadata": {
        "id": "JZEvKsLR9emP"
      },
      "outputs": [],
      "source": [
        "embedding_matrix = np.zeros((vocab_size,50))\n",
        "for word, i in t.word_index.items():\n",
        "\tembedding_vector = embeddings_index.get(word)\n",
        "\tif embedding_vector is not None:\n",
        "\t\tembedding_matrix[i] = embedding_vector"
      ]
    },
    {
      "cell_type": "code",
      "execution_count": null,
      "metadata": {
        "colab": {
          "base_uri": "https://localhost:8080/"
        },
        "id": "DL5HsQx7JIXu",
        "outputId": "80692b83-aada-44ca-9b5e-b5a120ac45fd"
      },
      "outputs": [
        {
          "output_type": "execute_result",
          "data": {
            "text/plain": [
              "(12475, 600)"
            ]
          },
          "metadata": {},
          "execution_count": 15
        }
      ],
      "source": [
        "X_train.shape"
      ]
    },
    {
      "cell_type": "code",
      "execution_count": null,
      "metadata": {
        "id": "-4dBOLna6mBE"
      },
      "outputs": [],
      "source": [
        "import tensorflow as tf\n",
        "from tensorflow import keras\n",
        "from keras import layers\n",
        "from keras import Sequential\n",
        "from keras.models import Model\n",
        "\n",
        "def modelLSTM1(input_shape,input_length,internal_units,output_size,vocab_size,embedding_matrix=embedding_matrix,embedding_dim=50):\n",
        "    input_lstm1 = layers.Input(shape=input_length)\n",
        "    embedding = layers.Embedding(vocab_size,embedding_dim,weights=[embedding_matrix],input_length=input_length,trainable=False)(input_lstm1)\n",
        "    lstm1 = layers.Bidirectional(layers.LSTM(units=internal_units,return_sequences=True))(embedding)\n",
        "    input_lstm2 = layers.Input(shape=input_shape)\n",
        "    lstm2 = layers.Bidirectional(layers.LSTM(input_shape=input_shape,units=internal_units,return_sequences=True))(input_lstm2)\n",
        "    dense_input = layers.concatenate([lstm1,lstm2])\n",
        "    output= layers.TimeDistributed(layers.Dense(output_size,activation='softmax'))(dense_input)\n",
        "    model = Model(inputs=[input_lstm1,input_lstm2], outputs=output)\n",
        "    return model"
      ]
    },
    {
      "cell_type": "code",
      "execution_count": null,
      "metadata": {
        "colab": {
          "base_uri": "https://localhost:8080/"
        },
        "id": "VZ2QHzJW9m7w",
        "outputId": "adf20696-fe0d-48ba-a86d-019bff6cc04f"
      },
      "outputs": [
        {
          "output_type": "stream",
          "name": "stdout",
          "text": [
            "Model: \"model\"\n",
            "__________________________________________________________________________________________________\n",
            " Layer (type)                   Output Shape         Param #     Connected to                     \n",
            "==================================================================================================\n",
            " input_1 (InputLayer)           [(None, 600)]        0           []                               \n",
            "                                                                                                  \n",
            " embedding (Embedding)          (None, 600, 50)      3394400     ['input_1[0][0]']                \n",
            "                                                                                                  \n",
            " input_2 (InputLayer)           [(None, 600, 46)]    0           []                               \n",
            "                                                                                                  \n",
            " bidirectional (Bidirectional)  (None, 600, 128)     58880       ['embedding[0][0]']              \n",
            "                                                                                                  \n",
            " bidirectional_1 (Bidirectional  (None, 600, 128)    56832       ['input_2[0][0]']                \n",
            " )                                                                                                \n",
            "                                                                                                  \n",
            " concatenate (Concatenate)      (None, 600, 256)     0           ['bidirectional[0][0]',          \n",
            "                                                                  'bidirectional_1[0][0]']        \n",
            "                                                                                                  \n",
            " time_distributed (TimeDistribu  (None, 600, 9)      2313        ['concatenate[0][0]']            \n",
            " ted)                                                                                             \n",
            "                                                                                                  \n",
            "==================================================================================================\n",
            "Total params: 3,512,425\n",
            "Trainable params: 118,025\n",
            "Non-trainable params: 3,394,400\n",
            "__________________________________________________________________________________________________\n"
          ]
        }
      ],
      "source": [
        "model1 = modelLSTM1(input_shape=(X1_train.shape[1],X1_train.shape[2]),input_length=max_seq_length,internal_units=64,output_size=y_test.shape[2],vocab_size=vocab_size)\n",
        "model1.summary()"
      ]
    },
    {
      "cell_type": "code",
      "execution_count": null,
      "metadata": {
        "colab": {
          "base_uri": "https://localhost:8080/"
        },
        "id": "FQSLVPI2JaY2",
        "outputId": "11911069-e3da-4154-e1d5-328dd99e9b54"
      },
      "outputs": [
        {
          "output_type": "stream",
          "name": "stdout",
          "text": [
            "Epoch 1/10\n",
            "49/49 [==============================] - 265s 5s/step - loss: 1.1077 - categorical_accuracy: 0.7004 - val_loss: 0.8522 - val_categorical_accuracy: 0.7294\n",
            "Epoch 2/10\n",
            "49/49 [==============================] - 253s 5s/step - loss: 0.7747 - categorical_accuracy: 0.7447 - val_loss: 0.7015 - val_categorical_accuracy: 0.7665\n",
            "Epoch 3/10\n",
            "49/49 [==============================] - 252s 5s/step - loss: 0.6809 - categorical_accuracy: 0.7707 - val_loss: 0.6659 - val_categorical_accuracy: 0.7750\n",
            "Epoch 4/10\n",
            "49/49 [==============================] - 252s 5s/step - loss: 0.6545 - categorical_accuracy: 0.7782 - val_loss: 0.6489 - val_categorical_accuracy: 0.7791\n",
            "Epoch 5/10\n",
            "49/49 [==============================] - 250s 5s/step - loss: 0.6418 - categorical_accuracy: 0.7821 - val_loss: 0.6392 - val_categorical_accuracy: 0.7820\n",
            "Epoch 6/10\n",
            "49/49 [==============================] - 263s 5s/step - loss: 0.6317 - categorical_accuracy: 0.7857 - val_loss: 0.6262 - val_categorical_accuracy: 0.7873\n",
            "Epoch 7/10\n",
            "49/49 [==============================] - 250s 5s/step - loss: 0.6212 - categorical_accuracy: 0.7894 - val_loss: 0.6198 - val_categorical_accuracy: 0.7892\n",
            "Epoch 8/10\n",
            "49/49 [==============================] - 250s 5s/step - loss: 0.6140 - categorical_accuracy: 0.7920 - val_loss: 0.6136 - val_categorical_accuracy: 0.7913\n",
            "Epoch 9/10\n",
            "49/49 [==============================] - 252s 5s/step - loss: 0.6082 - categorical_accuracy: 0.7938 - val_loss: 0.6061 - val_categorical_accuracy: 0.7941\n",
            "Epoch 10/10\n",
            "49/49 [==============================] - 251s 5s/step - loss: 0.5999 - categorical_accuracy: 0.7965 - val_loss: 0.6015 - val_categorical_accuracy: 0.7957\n"
          ]
        }
      ],
      "source": [
        "model1.compile(loss='categorical_crossentropy', optimizer='adam', metrics=['categorical_accuracy'])\n",
        "history=model1.fit(x=[X_train, X1_train], y=y_train, batch_size=256, epochs=10, validation_data=([X_test, X1_test], y_test), verbose=1)"
      ]
    },
    {
      "cell_type": "code",
      "execution_count": null,
      "metadata": {
        "colab": {
          "base_uri": "https://localhost:8080/"
        },
        "id": "-rQdtCetcdrW",
        "outputId": "c37d9697-c2f9-4047-8419-c03305a71d2e"
      },
      "outputs": [
        {
          "output_type": "stream",
          "name": "stdout",
          "text": [
            "98/98 [==============================] - 23s 234ms/step - loss: 0.6015 - categorical_accuracy: 0.7957\n",
            "Accuracy: 79.569626\n"
          ]
        }
      ],
      "source": [
        "loss, accuracy = model1.evaluate([X_test, X1_test],  y_test, verbose=1)\n",
        "print('Accuracy: %f' % (accuracy*100))"
      ]
    },
    {
      "cell_type": "code",
      "execution_count": null,
      "metadata": {
        "id": "VgzDj5wgJnsg"
      },
      "outputs": [],
      "source": [
        "from sklearn.metrics import confusion_matrix, f1_score\n",
        "ydl_pred = np.argmax(model1.predict([X_test,X1_test]), axis=-1)\n",
        "y_true = np.argmax(y_test,axis=-1)"
      ]
    },
    {
      "cell_type": "code",
      "execution_count": null,
      "metadata": {
        "colab": {
          "base_uri": "https://localhost:8080/"
        },
        "id": "U5_T7EkDLu1e",
        "outputId": "cef15d13-f9a6-4469-aa82-bceca885f864"
      },
      "outputs": [
        {
          "output_type": "execute_result",
          "data": {
            "text/plain": [
              "0.7703180975023891"
            ]
          },
          "metadata": {},
          "execution_count": 21
        }
      ],
      "source": [
        "cm=[ f1_score(y_t,y_p,average='weighted') for y_t,y_p in zip(y_true,ydl_pred)]\n",
        "np.mean(cm)"
      ]
    },
    {
      "cell_type": "code",
      "execution_count": null,
      "metadata": {
        "colab": {
          "base_uri": "https://localhost:8080/",
          "height": 466
        },
        "id": "hVQ1n2uWMaYM",
        "outputId": "70914f85-eeb1-4ff6-d681-44caa9fe1b68"
      },
      "outputs": [
        {
          "output_type": "execute_result",
          "data": {
            "text/plain": [
              "<IPython.core.display.Image object>"
            ],
            "image/png": "[encoded data removed]"
          },
          "metadata": {},
          "execution_count": 22
        }
      ],
      "source": [
        "tf.keras.utils.plot_model(model1, to_file='/content/drive/MyDrive/PFA/bilstm-epos.png')"
      ]
    },
    {
      "cell_type": "code",
      "source": [
        "vocab_size"
      ],
      "metadata": {
        "id": "J1-dVucvq6ne",
        "outputId": "453104a5-cab8-4735-af06-2b312c450cb4",
        "colab": {
          "base_uri": "https://localhost:8080/"
        }
      },
      "execution_count": null,
      "outputs": [
        {
          "output_type": "execute_result",
          "data": {
            "text/plain": [
              "67888"
            ]
          },
          "metadata": {},
          "execution_count": 23
        }
      ]
    },
    {
      "cell_type": "code",
      "source": [
        ""
      ],
      "metadata": {
        "id": "vudtsCaUq8Am"
      },
      "execution_count": null,
      "outputs": []
    }
  ],
  "metadata": {
    "accelerator": "GPU",
    "colab": {
      "collapsed_sections": [],
      "name": "BiLSTM embed pos.ipynb",
      "provenance": [],
      "authorship_tag": "ABX9TyMak/MNJc89cbsmQw+jrXhf",
      "include_colab_link": true
    },
    "kernelspec": {
      "display_name": "Python 3",
      "name": "python3"
    },
    "language_info": {
      "name": "python"
    }
  },
  "nbformat": 4,
  "nbformat_minor": 0
}