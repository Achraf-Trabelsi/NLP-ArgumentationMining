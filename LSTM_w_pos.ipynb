{
  "nbformat": 4,
  "nbformat_minor": 0,
  "metadata": {
    "colab": {
      "name": "LSTM w pos.ipynb",
      "provenance": [],
      "collapsed_sections": [],
      "authorship_tag": "ABX9TyNksQdR5rTxIjeLjGc3x1K2",
      "include_colab_link": true
    },
    "kernelspec": {
      "name": "python3",
      "display_name": "Python 3"
    },
    "language_info": {
      "name": "python"
    },
    "accelerator": "GPU"
  },
  "cells": [
    {
      "cell_type": "markdown",
      "metadata": {
        "id": "view-in-github",
        "colab_type": "text"
      },
      "source": [
        "<a href=\"https://colab.research.google.com/github/Achraf-Trabelsi/PFA-NLP/blob/main/LSTM_w_pos.ipynb\" target=\"_parent\"><img src=\"https://colab.research.google.com/assets/colab-badge.svg\" alt=\"Open In Colab\"/></a>"
      ]
    },
    {
      "cell_type": "code",
      "execution_count": null,
      "metadata": {
        "colab": {
          "base_uri": "https://localhost:8080/"
        },
        "id": "f_OE99nJ6GJM",
        "outputId": "3e2aae4d-666f-44ad-9f54-75add2c0e2ea"
      },
      "outputs": [
        {
          "output_type": "stream",
          "name": "stdout",
          "text": [
            "Mounted at /content/drive\n"
          ]
        }
      ],
      "source": [
        "# Mount the drive\n",
        "from google.colab import drive\n",
        "drive.mount('/content/drive',force_remount=True)"
      ]
    },
    {
      "cell_type": "code",
      "source": [
        "import pandas as pd\n",
        "import numpy as np\n",
        "import os \n",
        "import tensorflow as tf\n",
        "from tensorflow import keras\n",
        "from keras import layers\n",
        "path='/content/drive/MyDrive/PFA/'\n",
        "data=pd.read_csv(f'{path}dataset.csv')"
      ],
      "metadata": {
        "id": "FRcPyDBs6Mpp"
      },
      "execution_count": null,
      "outputs": []
    },
    {
      "cell_type": "code",
      "source": [
        "data.info()"
      ],
      "metadata": {
        "colab": {
          "base_uri": "https://localhost:8080/"
        },
        "id": "54ZAyhJ26jZe",
        "outputId": "489ae699-16b4-429f-ece1-cb4bb5006b8b"
      },
      "execution_count": null,
      "outputs": [
        {
          "output_type": "stream",
          "name": "stdout",
          "text": [
            "<class 'pandas.core.frame.DataFrame'>\n",
            "RangeIndex: 15594 entries, 0 to 15593\n",
            "Data columns (total 4 columns):\n",
            " #   Column  Non-Null Count  Dtype \n",
            "---  ------  --------------  ----- \n",
            " 0   id      15594 non-null  object\n",
            " 1   text    15594 non-null  object\n",
            " 2   pos     15594 non-null  object\n",
            " 3   arg     15594 non-null  object\n",
            "dtypes: object(4)\n",
            "memory usage: 487.4+ KB\n"
          ]
        }
      ]
    },
    {
      "cell_type": "code",
      "source": [
        "from keras.preprocessing.text import Tokenizer\n",
        "\n",
        "t = Tokenizer()\n",
        "t.fit_on_texts([text for text in data['text'].values])\n",
        "vocab_size = len(t.word_index)+1"
      ],
      "metadata": {
        "id": "r8TkYvom83Hs"
      },
      "execution_count": null,
      "outputs": []
    },
    {
      "cell_type": "code",
      "source": [
        "max_seq_length=800"
      ],
      "metadata": {
        "id": "kc8nMiP_9Stv"
      },
      "execution_count": null,
      "outputs": []
    },
    {
      "cell_type": "code",
      "source": [
        "from keras.preprocessing.sequence import pad_sequences\n",
        "from keras.utils import np_utils\n",
        "\n",
        "X = data[['text','pos']].values\n",
        "y = data['arg'].values\n",
        "pos = X[:,1]\n",
        "\n",
        "\n",
        "y=[np.array([float(x1) for x1 in x.split()]) for x in y]\n",
        "pos=[np.array([float(x1) for x1 in x.split()]) for x in pos]\n",
        "\n",
        "\n",
        "pos_padded = pad_sequences(pos, maxlen=max_seq_length,padding='post')\n",
        "y_padded = pad_sequences(y, maxlen=max_seq_length,padding='post')\n",
        "\n",
        "pos_cat = np_utils.to_categorical(pos_padded)\n",
        "y_cat = np_utils.to_categorical(y_padded)"
      ],
      "metadata": {
        "id": "cotZMxz69PYQ"
      },
      "execution_count": null,
      "outputs": []
    },
    {
      "cell_type": "code",
      "source": [
        "np.array(pos_padded).shape"
      ],
      "metadata": {
        "colab": {
          "base_uri": "https://localhost:8080/"
        },
        "id": "P1uFLwS5SPOq",
        "outputId": "d18b74fa-df5c-4a4f-e048-5ae61b646988"
      },
      "execution_count": null,
      "outputs": [
        {
          "output_type": "execute_result",
          "data": {
            "text/plain": [
              "(15594, 800)"
            ]
          },
          "metadata": {},
          "execution_count": 7
        }
      ]
    },
    {
      "cell_type": "code",
      "source": [
        "from sklearn.model_selection import train_test_split\n",
        "\n",
        "X_train, X_test, y_train, y_test = train_test_split(pos_cat,y_cat, test_size=0.2, random_state=42)"
      ],
      "metadata": {
        "id": "xYmenAc69cR0"
      },
      "execution_count": null,
      "outputs": []
    },
    {
      "cell_type": "code",
      "source": [
        "X_train.shape"
      ],
      "metadata": {
        "colab": {
          "base_uri": "https://localhost:8080/"
        },
        "id": "DL5HsQx7JIXu",
        "outputId": "0daaea63-9a26-45a5-a7c3-aec10a6d23ce"
      },
      "execution_count": null,
      "outputs": [
        {
          "output_type": "execute_result",
          "data": {
            "text/plain": [
              "(12475, 800, 46)"
            ]
          },
          "metadata": {},
          "execution_count": 9
        }
      ]
    },
    {
      "cell_type": "code",
      "source": [
        "import tensorflow as tf\n",
        "from tensorflow import keras\n",
        "from keras import layers\n",
        "from keras import Sequential\n",
        "from keras.models import Model\n",
        "\n",
        "def modelLSTM_pos(input_shape,internal_units,output_size):\n",
        "    input_lstm = layers.Input(shape=input_shape)\n",
        "    lstm = layers.LSTM(input_shape=input_shape,units=internal_units,return_sequences=True)(input_lstm)\n",
        "    output= layers.TimeDistributed(layers.Dense(output_size,activation='softmax'))(lstm)\n",
        "    model = Model(inputs=input_lstm, outputs=output)\n",
        "    return model"
      ],
      "metadata": {
        "id": "-4dBOLna6mBE"
      },
      "execution_count": null,
      "outputs": []
    },
    {
      "cell_type": "code",
      "source": [
        "model_pos = modelLSTM_pos(input_shape=(X_train.shape[1],X_train.shape[2]),internal_units=64,output_size=y_test.shape[2])\n",
        "model_pos.summary()"
      ],
      "metadata": {
        "colab": {
          "base_uri": "https://localhost:8080/"
        },
        "id": "VZ2QHzJW9m7w",
        "outputId": "a5e1d25f-440e-4f59-b62f-2dfdd7a5669d"
      },
      "execution_count": null,
      "outputs": [
        {
          "output_type": "stream",
          "name": "stdout",
          "text": [
            "Model: \"model\"\n",
            "_________________________________________________________________\n",
            " Layer (type)                Output Shape              Param #   \n",
            "=================================================================\n",
            " input_1 (InputLayer)        [(None, 800, 46)]         0         \n",
            "                                                                 \n",
            " lstm (LSTM)                 (None, 800, 64)           28416     \n",
            "                                                                 \n",
            " time_distributed (TimeDistr  (None, 800, 8)           520       \n",
            " ibuted)                                                         \n",
            "                                                                 \n",
            "=================================================================\n",
            "Total params: 28,936\n",
            "Trainable params: 28,936\n",
            "Non-trainable params: 0\n",
            "_________________________________________________________________\n"
          ]
        }
      ]
    },
    {
      "cell_type": "code",
      "source": [
        "model_pos.compile(loss='categorical_crossentropy', optimizer='adam', metrics=['categorical_accuracy'])\n",
        "history=model_pos.fit(x=X_train, y=y_train, batch_size=256, epochs=10, validation_data=(X_test, y_test), verbose=1)"
      ],
      "metadata": {
        "id": "FQSLVPI2JaY2",
        "colab": {
          "base_uri": "https://localhost:8080/"
        },
        "outputId": "6e7a8c55-4c95-400b-9443-1ec453b3e0f5"
      },
      "execution_count": null,
      "outputs": [
        {
          "output_type": "stream",
          "name": "stdout",
          "text": [
            "Epoch 1/10\n",
            "49/49 [==============================] - 11s 97ms/step - loss: 1.1462 - categorical_accuracy: 0.7128 - val_loss: 0.7390 - val_categorical_accuracy: 0.7729\n",
            "Epoch 2/10\n",
            "49/49 [==============================] - 4s 73ms/step - loss: 0.7004 - categorical_accuracy: 0.7823 - val_loss: 0.6900 - val_categorical_accuracy: 0.7821\n",
            "Epoch 3/10\n",
            "49/49 [==============================] - 4s 73ms/step - loss: 0.6706 - categorical_accuracy: 0.7846 - val_loss: 0.6590 - val_categorical_accuracy: 0.7838\n",
            "Epoch 4/10\n",
            "49/49 [==============================] - 4s 73ms/step - loss: 0.6431 - categorical_accuracy: 0.7850 - val_loss: 0.6340 - val_categorical_accuracy: 0.7841\n",
            "Epoch 5/10\n",
            "49/49 [==============================] - 4s 73ms/step - loss: 0.6108 - categorical_accuracy: 0.7968 - val_loss: 0.6065 - val_categorical_accuracy: 0.8063\n",
            "Epoch 6/10\n",
            "49/49 [==============================] - 4s 73ms/step - loss: 0.5866 - categorical_accuracy: 0.8070 - val_loss: 0.5834 - val_categorical_accuracy: 0.8067\n",
            "Epoch 7/10\n",
            "49/49 [==============================] - 4s 72ms/step - loss: 0.5775 - categorical_accuracy: 0.8082 - val_loss: 0.5905 - val_categorical_accuracy: 0.8072\n",
            "Epoch 8/10\n",
            "49/49 [==============================] - 4s 72ms/step - loss: 0.5851 - categorical_accuracy: 0.8078 - val_loss: 0.5758 - val_categorical_accuracy: 0.8092\n",
            "Epoch 9/10\n",
            "49/49 [==============================] - 4s 73ms/step - loss: 0.5682 - categorical_accuracy: 0.8098 - val_loss: 0.5675 - val_categorical_accuracy: 0.8098\n",
            "Epoch 10/10\n",
            "49/49 [==============================] - 4s 73ms/step - loss: 0.5637 - categorical_accuracy: 0.8107 - val_loss: 0.5627 - val_categorical_accuracy: 0.8109\n"
          ]
        }
      ]
    },
    {
      "cell_type": "code",
      "source": [
        "loss, accuracy = model_pos.evaluate(X_test,  y_test, verbose=1)\n",
        "print('Accuracy: %f' % (accuracy*100))"
      ],
      "metadata": {
        "id": "-rQdtCetcdrW",
        "colab": {
          "base_uri": "https://localhost:8080/"
        },
        "outputId": "b14c9bf1-e860-48d6-abfc-0140f773563c"
      },
      "execution_count": null,
      "outputs": [
        {
          "output_type": "stream",
          "name": "stdout",
          "text": [
            "98/98 [==============================] - 1s 13ms/step - loss: 0.5627 - categorical_accuracy: 0.8109\n",
            "Accuracy: 81.093538\n"
          ]
        }
      ]
    },
    {
      "cell_type": "code",
      "source": [
        "from sklearn.metrics import confusion_matrix, f1_score\n",
        "ydl_pred = np.argmax(model_pos.predict(X_test), axis=-1)\n",
        "y_true = np.argmax(y_test,axis=-1)"
      ],
      "metadata": {
        "id": "VgzDj5wgJnsg"
      },
      "execution_count": null,
      "outputs": []
    },
    {
      "cell_type": "code",
      "source": [
        "cm=[ f1_score(y_t,y_p,average='weighted') for y_t,y_p in zip(y_true,ydl_pred)]\n",
        "np.mean(cm)"
      ],
      "metadata": {
        "id": "U5_T7EkDLu1e",
        "colab": {
          "base_uri": "https://localhost:8080/"
        },
        "outputId": "d5052f8d-0adb-4a38-a130-5370f958205c"
      },
      "execution_count": null,
      "outputs": [
        {
          "output_type": "execute_result",
          "data": {
            "text/plain": [
              "0.7769034216906779"
            ]
          },
          "metadata": {},
          "execution_count": 22
        }
      ]
    },
    {
      "cell_type": "code",
      "source": [
        "tf.keras.utils.plot_model(model_pos, to_file='/content/drive/MyDrive/PFA/lstm_pos.png')"
      ],
      "metadata": {
        "id": "hVQ1n2uWMaYM",
        "colab": {
          "base_uri": "https://localhost:8080/",
          "height": 272
        },
        "outputId": "6863c3b1-0854-4183-91e9-956b59384add"
      },
      "execution_count": null,
      "outputs": [
        {
          "output_type": "execute_result",
          "data": {
            "text/plain": [
              "<IPython.core.display.Image object>"
            ],
            "image/png": "[encoded data removed]"
          },
          "metadata": {},
          "execution_count": 20
        }
      ]
    },
    {
      "cell_type": "code",
      "source": [
        ""
      ],
      "metadata": {
        "id": "kp_nn6UTOsjd"
      },
      "execution_count": null,
      "outputs": []
    }
  ]
}