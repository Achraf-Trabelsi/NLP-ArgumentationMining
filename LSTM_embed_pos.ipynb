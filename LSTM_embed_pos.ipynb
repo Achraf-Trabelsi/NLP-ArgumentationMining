{
  "cells": [
    {
      "cell_type": "markdown",
      "metadata": {
        "id": "view-in-github",
        "colab_type": "text"
      },
      "source": [
        "<a href=\"https://colab.research.google.com/github/Achraf-Trabelsi/PFA-NLP/blob/main/LSTM_embed_pos.ipynb\" target=\"_parent\"><img src=\"https://colab.research.google.com/assets/colab-badge.svg\" alt=\"Open In Colab\"/></a>"
      ]
    },
    {
      "cell_type": "code",
      "execution_count": null,
      "metadata": {
        "colab": {
          "base_uri": "https://localhost:8080/"
        },
        "id": "f_OE99nJ6GJM",
        "outputId": "5581fbee-6c37-4292-a67a-6003aa24e7e3"
      },
      "outputs": [
        {
          "name": "stdout",
          "output_type": "stream",
          "text": [
            "Mounted at /content/drive\n"
          ]
        }
      ],
      "source": [
        "# Mount the drive\n",
        "from google.colab import drive\n",
        "drive.mount('/content/drive',force_remount=True)"
      ]
    },
    {
      "cell_type": "code",
      "execution_count": null,
      "metadata": {
        "id": "FRcPyDBs6Mpp"
      },
      "outputs": [],
      "source": [
        "import pandas as pd\n",
        "import numpy as np\n",
        "import os \n",
        "import tensorflow as tf\n",
        "from tensorflow import keras\n",
        "from keras import layers\n",
        "path='/content/drive/MyDrive/PFA/'\n",
        "data=pd.read_csv(f'{path}dataset.csv')"
      ]
    },
    {
      "cell_type": "code",
      "execution_count": null,
      "metadata": {
        "colab": {
          "base_uri": "https://localhost:8080/"
        },
        "id": "54ZAyhJ26jZe",
        "outputId": "b2cab5d7-474d-47ba-f99c-fbcd221eb007"
      },
      "outputs": [
        {
          "name": "stdout",
          "output_type": "stream",
          "text": [
            "<class 'pandas.core.frame.DataFrame'>\n",
            "RangeIndex: 15594 entries, 0 to 15593\n",
            "Data columns (total 4 columns):\n",
            " #   Column  Non-Null Count  Dtype \n",
            "---  ------  --------------  ----- \n",
            " 0   id      15594 non-null  object\n",
            " 1   text    15594 non-null  object\n",
            " 2   pos     15594 non-null  object\n",
            " 3   arg     15594 non-null  object\n",
            "dtypes: object(4)\n",
            "memory usage: 487.4+ KB\n"
          ]
        }
      ],
      "source": [
        "data.info()"
      ]
    },
    {
      "cell_type": "code",
      "execution_count": null,
      "metadata": {
        "id": "r8TkYvom83Hs"
      },
      "outputs": [],
      "source": [
        "from keras.preprocessing.text import Tokenizer\n",
        "\n",
        "t = Tokenizer()\n",
        "t.fit_on_texts([text for text in data['text'].values])\n",
        "vocab_size = len(t.word_index)+1"
      ]
    },
    {
      "cell_type": "code",
      "execution_count": null,
      "metadata": {
        "id": "kc8nMiP_9Stv"
      },
      "outputs": [],
      "source": [
        "max_seq_length=600"
      ]
    },
    {
      "cell_type": "code",
      "execution_count": null,
      "metadata": {
        "id": "cotZMxz69PYQ"
      },
      "outputs": [],
      "source": [
        "from keras.preprocessing.sequence import pad_sequences\n",
        "from keras.utils import np_utils\n",
        "\n",
        "X = data[['text','pos']].values\n",
        "y = data['arg'].values\n",
        "pos = X[:,1]\n",
        "\n",
        "X_encode = t.texts_to_sequences(X[:,0])\n",
        "y=[np.array([float(x1) for x1 in x.split()]) for x in y]\n",
        "pos=[np.array([float(x1) for x1 in x.split()]) for x in pos]\n",
        "\n",
        "X_padded = pad_sequences(X_encode, maxlen=max_seq_length,padding='post')\n",
        "pos_padded = pad_sequences(pos, maxlen=max_seq_length,padding='post',value=8)\n",
        "y_padded = pad_sequences(y, maxlen=max_seq_length,padding='post',value=8)\n",
        "\n",
        "pos_cat = np_utils.to_categorical(pos_padded)\n",
        "y_cat = np_utils.to_categorical(y_padded)"
      ]
    },
    {
      "cell_type": "code",
      "execution_count": null,
      "metadata": {
        "id": "xYmenAc69cR0"
      },
      "outputs": [],
      "source": [
        "from sklearn.model_selection import train_test_split\n",
        "\n",
        "X_train, X_test, y_train, y_test = train_test_split(X_padded,y_cat, test_size=0.2, random_state=42)\n",
        "X1_train, X1_test, y1_train, y1_test = train_test_split(pos_cat,y_cat, test_size=0.2, random_state=42)"
      ]
    },
    {
      "cell_type": "code",
      "execution_count": null,
      "metadata": {
        "colab": {
          "base_uri": "https://localhost:8080/"
        },
        "id": "NlO6RgVL9jOQ",
        "outputId": "61ce1a7e-8fe3-4a3b-9cf1-a1e2b2f7e7a9"
      },
      "outputs": [
        {
          "name": "stdout",
          "output_type": "stream",
          "text": [
            "--2022-06-02 16:50:35--  http://nlp.stanford.edu/data/glove.6B.zip\n",
            "Resolving nlp.stanford.edu (nlp.stanford.edu)... 171.64.67.140\n",
            "Connecting to nlp.stanford.edu (nlp.stanford.edu)|171.64.67.140|:80... connected.\n",
            "HTTP request sent, awaiting response... 302 Found\n",
            "Location: https://nlp.stanford.edu/data/glove.6B.zip [following]\n",
            "--2022-06-02 16:50:35--  https://nlp.stanford.edu/data/glove.6B.zip\n",
            "Connecting to nlp.stanford.edu (nlp.stanford.edu)|171.64.67.140|:443... connected.\n",
            "HTTP request sent, awaiting response... 301 Moved Permanently\n",
            "Location: http://downloads.cs.stanford.edu/nlp/data/glove.6B.zip [following]\n",
            "--2022-06-02 16:50:36--  http://downloads.cs.stanford.edu/nlp/data/glove.6B.zip\n",
            "Resolving downloads.cs.stanford.edu (downloads.cs.stanford.edu)... 171.64.64.22\n",
            "Connecting to downloads.cs.stanford.edu (downloads.cs.stanford.edu)|171.64.64.22|:80... connected.\n",
            "HTTP request sent, awaiting response... 200 OK\n",
            "Length: 862182613 (822M) [application/zip]\n",
            "Saving to: ‘glove.6B.zip’\n",
            "\n",
            "glove.6B.zip        100%[===================>] 822.24M  5.08MB/s    in 2m 40s  \n",
            "\n",
            "2022-06-02 16:53:16 (5.13 MB/s) - ‘glove.6B.zip’ saved [862182613/862182613]\n",
            "\n"
          ]
        }
      ],
      "source": [
        "!wget http://nlp.stanford.edu/data/glove.6B.zip"
      ]
    },
    {
      "cell_type": "code",
      "execution_count": null,
      "metadata": {
        "id": "vOC03Wbr5RGX"
      },
      "outputs": [],
      "source": [
        "!unzip -q -n \"/content/glove.6B.zip\" -d \"/content/\"\n",
        "emmbed_dict = {}\n",
        "with open('/content/glove.6B.50d.txt','r') as f:\n",
        "  for line in f:\n",
        "    values = line.split()\n",
        "    word = values[0]\n",
        "    vector = np.asarray(values[1:],dtype='float32')\n",
        "    emmbed_dict[word]=vector"
      ]
    },
    {
      "cell_type": "code",
      "execution_count": null,
      "metadata": {
        "id": "hPa9D98D9iui"
      },
      "outputs": [],
      "source": [
        "embeddings_index = dict()\n",
        "f = open('/content/glove.6B.50d.txt')\n",
        "for line in f:\n",
        "\tvalues = line.split()\n",
        "\tword = values[0]\n",
        "\tcoefs = np.asarray(values[1:], dtype='float32')\n",
        "\tembeddings_index[word] = coefs\n",
        "f.close()"
      ]
    },
    {
      "cell_type": "code",
      "execution_count": null,
      "metadata": {
        "id": "JZEvKsLR9emP"
      },
      "outputs": [],
      "source": [
        "embedding_matrix = np.zeros((vocab_size,50))\n",
        "for word, i in t.word_index.items():\n",
        "\tembedding_vector = embeddings_index.get(word)\n",
        "\tif embedding_vector is not None:\n",
        "\t\tembedding_matrix[i] = embedding_vector"
      ]
    },
    {
      "cell_type": "code",
      "execution_count": null,
      "metadata": {
        "colab": {
          "base_uri": "https://localhost:8080/"
        },
        "id": "DL5HsQx7JIXu",
        "outputId": "25c3c88d-f16e-46a4-b55a-e61fb38de3fe"
      },
      "outputs": [
        {
          "data": {
            "text/plain": [
              "(12475, 600)"
            ]
          },
          "execution_count": 12,
          "metadata": {},
          "output_type": "execute_result"
        }
      ],
      "source": [
        "X_train.shape"
      ]
    },
    {
      "cell_type": "code",
      "execution_count": null,
      "metadata": {
        "id": "-4dBOLna6mBE"
      },
      "outputs": [],
      "source": [
        "import tensorflow as tf\n",
        "from tensorflow import keras\n",
        "from keras import layers\n",
        "from keras import Sequential\n",
        "from keras.models import Model\n",
        "\n",
        "def modelLSTM1(input_shape,input_length,internal_units,output_size,vocab_size,embedding_matrix=embedding_matrix,embedding_dim=50):\n",
        "    input_lstm1 = layers.Input(shape=input_length)\n",
        "    embedding = layers.Embedding(vocab_size,embedding_dim,weights=[embedding_matrix],input_length=input_length,trainable=False)(input_lstm1)\n",
        "    lstm1 = layers.LSTM(units=internal_units,return_sequences=True)(embedding)\n",
        "    input_lstm2 = layers.Input(shape=input_shape)\n",
        "    lstm2 = layers.LSTM(input_shape=input_shape,units=internal_units,return_sequences=True)(input_lstm2)\n",
        "    dense_input = layers.concatenate([lstm1,lstm2])\n",
        "    output= layers.TimeDistributed(layers.Dense(output_size,activation='softmax'))(dense_input)\n",
        "    model = Model(inputs=[input_lstm1,input_lstm2], outputs=output)\n",
        "    return model"
      ]
    },
    {
      "cell_type": "code",
      "execution_count": null,
      "metadata": {
        "colab": {
          "base_uri": "https://localhost:8080/"
        },
        "id": "VZ2QHzJW9m7w",
        "outputId": "f771b9cd-1d0c-414b-f49a-bd53f87da67b"
      },
      "outputs": [
        {
          "name": "stdout",
          "output_type": "stream",
          "text": [
            "Model: \"model\"\n",
            "__________________________________________________________________________________________________\n",
            " Layer (type)                   Output Shape         Param #     Connected to                     \n",
            "==================================================================================================\n",
            " input_1 (InputLayer)           [(None, 600)]        0           []                               \n",
            "                                                                                                  \n",
            " embedding (Embedding)          (None, 600, 50)      3394400     ['input_1[0][0]']                \n",
            "                                                                                                  \n",
            " input_2 (InputLayer)           [(None, 600, 46)]    0           []                               \n",
            "                                                                                                  \n",
            " lstm (LSTM)                    (None, 600, 64)      29440       ['embedding[0][0]']              \n",
            "                                                                                                  \n",
            " lstm_1 (LSTM)                  (None, 600, 64)      28416       ['input_2[0][0]']                \n",
            "                                                                                                  \n",
            " concatenate (Concatenate)      (None, 600, 128)     0           ['lstm[0][0]',                   \n",
            "                                                                  'lstm_1[0][0]']                 \n",
            "                                                                                                  \n",
            " time_distributed (TimeDistribu  (None, 600, 9)      1161        ['concatenate[0][0]']            \n",
            " ted)                                                                                             \n",
            "                                                                                                  \n",
            "==================================================================================================\n",
            "Total params: 3,453,417\n",
            "Trainable params: 59,017\n",
            "Non-trainable params: 3,394,400\n",
            "__________________________________________________________________________________________________\n"
          ]
        }
      ],
      "source": [
        "model1 = modelLSTM1(input_shape=(X1_train.shape[1],X1_train.shape[2]),input_length=max_seq_length,internal_units=64,output_size=y_test.shape[2],vocab_size=vocab_size)\n",
        "model1.summary()"
      ]
    },
    {
      "cell_type": "code",
      "execution_count": null,
      "metadata": {
        "colab": {
          "background_save": true,
          "base_uri": "https://localhost:8080/"
        },
        "id": "FQSLVPI2JaY2",
        "outputId": "fa40eae5-a6fd-46de-ba40-6015051fe6a1"
      },
      "outputs": [
        {
          "name": "stdout",
          "output_type": "stream",
          "text": [
            "Epoch 1/10\n",
            "49/49 [==============================] - 135s 3s/step - loss: 1.2269 - categorical_accuracy: 0.6779 - val_loss: 0.9495 - val_categorical_accuracy: 0.7087\n",
            "Epoch 2/10\n",
            "49/49 [==============================] - 128s 3s/step - loss: 0.9123 - categorical_accuracy: 0.7128 - val_loss: 0.8642 - val_categorical_accuracy: 0.7170\n",
            "Epoch 3/10\n",
            "49/49 [==============================] - 129s 3s/step - loss: 0.8018 - categorical_accuracy: 0.7407 - val_loss: 0.7684 - val_categorical_accuracy: 0.7453\n",
            "Epoch 4/10\n",
            "49/49 [==============================] - 127s 3s/step - loss: 0.7563 - categorical_accuracy: 0.7486 - val_loss: 0.7483 - val_categorical_accuracy: 0.7512\n",
            "Epoch 5/10\n",
            "49/49 [==============================] - 127s 3s/step - loss: 0.7373 - categorical_accuracy: 0.7534 - val_loss: 0.7309 - val_categorical_accuracy: 0.7549\n",
            "Epoch 6/10\n",
            "49/49 [==============================] - 127s 3s/step - loss: 0.7245 - categorical_accuracy: 0.7576 - val_loss: 0.7264 - val_categorical_accuracy: 0.7558\n",
            "Epoch 7/10\n",
            "49/49 [==============================] - 128s 3s/step - loss: 0.7145 - categorical_accuracy: 0.7605 - val_loss: 0.7126 - val_categorical_accuracy: 0.7609\n",
            "Epoch 8/10\n",
            "49/49 [==============================] - 128s 3s/step - loss: 0.7066 - categorical_accuracy: 0.7630 - val_loss: 0.7198 - val_categorical_accuracy: 0.7590\n",
            "Epoch 9/10\n",
            "49/49 [==============================] - 128s 3s/step - loss: 0.7014 - categorical_accuracy: 0.7649 - val_loss: 0.7023 - val_categorical_accuracy: 0.7636\n",
            "Epoch 10/10\n",
            "49/49 [==============================] - 127s 3s/step - loss: 0.6928 - categorical_accuracy: 0.7679 - val_loss: 0.6959 - val_categorical_accuracy: 0.7667\n"
          ]
        }
      ],
      "source": [
        "model1.compile(loss='categorical_crossentropy', optimizer='adam', metrics=['categorical_accuracy'])\n",
        "history=model1.fit(x=[X_train, X1_train], y=y_train, batch_size=256, epochs=10, validation_data=([X_test, X1_test], y_test), verbose=1)"
      ]
    },
    {
      "cell_type": "code",
      "execution_count": null,
      "metadata": {
        "colab": {
          "background_save": true
        },
        "id": "-rQdtCetcdrW",
        "outputId": "16d4ea01-789d-4262-d6f6-80e196e408ab"
      },
      "outputs": [
        {
          "name": "stdout",
          "output_type": "stream",
          "text": [
            "98/98 [==============================] - 12s 118ms/step - loss: 0.6959 - categorical_accuracy: 0.7667\n",
            "Accuracy: 76.667362\n"
          ]
        }
      ],
      "source": [
        "loss, accuracy = model1.evaluate([X_test, X1_test],  y_test, verbose=1)\n",
        "print('Accuracy: %f' % (accuracy*100))"
      ]
    },
    {
      "cell_type": "code",
      "execution_count": null,
      "metadata": {
        "colab": {
          "background_save": true
        },
        "id": "VgzDj5wgJnsg"
      },
      "outputs": [],
      "source": [
        "from sklearn.metrics import confusion_matrix, f1_score\n",
        "ydl_pred = np.argmax(model1.predict([X_test,X1_test]), axis=-1)\n",
        "y_true = np.argmax(y_test,axis=-1)"
      ]
    },
    {
      "cell_type": "code",
      "execution_count": null,
      "metadata": {
        "colab": {
          "background_save": true
        },
        "id": "U5_T7EkDLu1e",
        "outputId": "a4ec804d-697f-4839-af12-4518515129de"
      },
      "outputs": [
        {
          "data": {
            "text/plain": [
              "0.7276920844258472"
            ]
          },
          "execution_count": null,
          "metadata": {},
          "output_type": "execute_result"
        }
      ],
      "source": [
        "cm=[ f1_score(y_t,y_p,average='weighted') for y_t,y_p in zip(y_true,ydl_pred)]\n",
        "np.mean(cm)"
      ]
    },
    {
      "cell_type": "code",
      "execution_count": null,
      "metadata": {
        "colab": {
          "background_save": true
        },
        "id": "hVQ1n2uWMaYM",
        "outputId": "f8d3bbfe-e1c4-45bf-982f-2f3a5f4ca152"
      },
      "outputs": [
        {
          "ename": "NameError",
          "evalue": "ignored",
          "output_type": "error",
          "traceback": [
            "\u001b[0;31m---------------------------------------------------------------------------\u001b[0m",
            "\u001b[0;31mNameError\u001b[0m                                 Traceback (most recent call last)",
            "\u001b[0;32m<ipython-input-19-506f4dbde4ce>\u001b[0m in \u001b[0;36m<module>\u001b[0;34m()\u001b[0m\n\u001b[0;32m----> 1\u001b[0;31m \u001b[0mtf\u001b[0m\u001b[0;34m.\u001b[0m\u001b[0mkeras\u001b[0m\u001b[0;34m.\u001b[0m\u001b[0mutils\u001b[0m\u001b[0;34m.\u001b[0m\u001b[0mplot_model\u001b[0m\u001b[0;34m(\u001b[0m\u001b[0mbilstm_epos\u001b[0m\u001b[0;34m,\u001b[0m \u001b[0mto_file\u001b[0m\u001b[0;34m=\u001b[0m\u001b[0;34m'/content/drive/MyDrive/PFA/bilstm_epos.png'\u001b[0m\u001b[0;34m)\u001b[0m\u001b[0;34m\u001b[0m\u001b[0;34m\u001b[0m\u001b[0m\n\u001b[0m",
            "\u001b[0;31mNameError\u001b[0m: name 'bilstm_epos' is not defined"
          ]
        }
      ],
      "source": [
        "tf.keras.utils.plot_model(bilstm_epos, to_file='/content/drive/MyDrive/PFA/bilstm_epos.png')"
      ]
    }
  ],
  "metadata": {
    "accelerator": "GPU",
    "colab": {
      "collapsed_sections": [],
      "name": "LSTM embed pos.ipynb",
      "provenance": [],
      "authorship_tag": "ABX9TyNKKcGyJhc84bS9WsRBO3sD",
      "include_colab_link": true
    },
    "kernelspec": {
      "display_name": "Python 3",
      "name": "python3"
    },
    "language_info": {
      "name": "python"
    }
  },
  "nbformat": 4,
  "nbformat_minor": 0
}